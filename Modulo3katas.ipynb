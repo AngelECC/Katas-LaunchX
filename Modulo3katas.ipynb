{
 "cells": [
  {
   "cell_type": "code",
   "execution_count": 1,
   "metadata": {},
   "outputs": [
    {
     "name": "stdout",
     "output_type": "stream",
     "text": [
      "¡Un asteroide se acerca!\n"
     ]
    }
   ],
   "source": [
    "# Añadir el código necesario para crear una variable que guarde la velocidad del asteroide.\n",
    "# Escribe una expresión de prueba para calcular si necesita una advertencia.\n",
    "# Agregue las instrucciones que se ejecutarán si la expresión de prueba es true o false.\n",
    "\n",
    "asteroide = 49\n",
    "if asteroide > 25:\n",
    "    print(\"¡Un asteroide se acerca!\")"
   ]
  },
  {
   "cell_type": "code",
   "execution_count": 2,
   "metadata": {},
   "outputs": [
    {
     "name": "stdout",
     "output_type": "stream",
     "text": [
      "Todo normal.\n"
     ]
    }
   ],
   "source": [
    "# Agrega el código para crear una variable para un asteroide que viaja a 19 km/s\n",
    "# Escribe varias expresiones de prueba para determinar si puedes ver el rayo de luz desde la tierra\n",
    "# Agrega las instrucciones que se ejecutarán si las expresiones de prueba son True o False\n",
    "\n",
    "asteroide = 19\n",
    "if asteroide > 20:\n",
    "    print(\"Se ve un asteroide desde la tierra\")\n",
    "elif asteroide == 20:\n",
    "    print(\"Se ve un asteroide desde la tierra\")\n",
    "else:\n",
    "    print(\"Todo normal.\")"
   ]
  },
  {
   "cell_type": "code",
   "execution_count": 6,
   "metadata": {},
   "outputs": [
    {
     "name": "stdout",
     "output_type": "stream",
     "text": [
      "¡Un asteroide se acerca a gran velocidad!\n"
     ]
    }
   ],
   "source": [
    "velocidad = 99\n",
    "tamaño = 50\n",
    "if velocidad > 25 and tamaño > 25:\n",
    "    print(\"¡Un asteroide se acerca a gran velocidad!\")\n",
    "elif velocidad >= 20:\n",
    "    print(\"Se ve un asteroide desde la tierra\")\n",
    "elif tamaño < 25:\n",
    "    print(\"Ese asteroide se destruirá al entrar a la tierra\")\n",
    "else:\n",
    "    print(\"Todo normal.\")"
   ]
  }
 ],
 "metadata": {
  "interpreter": {
   "hash": "7537fe986df8cdb5a0245ac117ced56be570be83a7377717d89cf967a353e620"
  },
  "kernelspec": {
   "display_name": "Python 3.10.2 64-bit (windows store)",
   "language": "python",
   "name": "python3"
  },
  "language_info": {
   "codemirror_mode": {
    "name": "ipython",
    "version": 3
   },
   "file_extension": ".py",
   "mimetype": "text/x-python",
   "name": "python",
   "nbconvert_exporter": "python",
   "pygments_lexer": "ipython3",
   "version": "3.10.2"
  },
  "orig_nbformat": 4
 },
 "nbformat": 4,
 "nbformat_minor": 2
}
