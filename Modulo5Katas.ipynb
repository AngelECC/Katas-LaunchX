{
 "cells": [
  {
   "cell_type": "markdown",
   "metadata": {},
   "source": [
    "## Ejercicio1 - Utilizar operadores aritméticos"
   ]
  },
  {
   "cell_type": "code",
   "execution_count": 14,
   "metadata": {},
   "outputs": [],
   "source": [
    "# Creando variables para almacenar las dos distancias\n",
    "\n",
    "Tierra = 149597870 \n",
    "Jupiter = 778547200\n"
   ]
  },
  {
   "cell_type": "code",
   "execution_count": 16,
   "metadata": {},
   "outputs": [
    {
     "name": "stdout",
     "output_type": "stream",
     "text": [
      "628949330\n",
      "390577533.93\n"
     ]
    }
   ],
   "source": [
    "# Calcular la distancia entre planetas\n",
    "\n",
    "distancia_entre_planetas = Jupiter - Tierra\n",
    "print(distancia_entre_planetas)\n",
    "distancia_en_millas = distancia_entre_planetas * 0.621\n",
    "print(distancia_en_millas)\n"
   ]
  },
  {
   "cell_type": "markdown",
   "metadata": {},
   "source": [
    "## Ejercicio 2: convierte cadenas en números y usa valores absolutos\n"
   ]
  },
  {
   "cell_type": "code",
   "execution_count": 19,
   "metadata": {},
   "outputs": [],
   "source": [
    "# Almacenar las entradas del usuario\n",
    "\n",
    "Tierra = input('Introduzca la distancia del sol al Planeta Tierra en Km')\n",
    "Marte = input('Introduzca la distancia del sol al Planeta Marte Km')"
   ]
  },
  {
   "cell_type": "code",
   "execution_count": 20,
   "metadata": {},
   "outputs": [],
   "source": [
    "# Convierte las cadenas de ambos planetas a números enteros\n",
    "\n",
    "Tierra = int(Tierra)\n",
    "Marte = int(Marte)"
   ]
  },
  {
   "cell_type": "code",
   "execution_count": 21,
   "metadata": {},
   "outputs": [
    {
     "name": "stdout",
     "output_type": "stream",
     "text": [
      "78300000\n",
      "48624300.0\n"
     ]
    }
   ],
   "source": [
    "# Realizar el cálculo y determinar el valor absoluto\n",
    "\n",
    "Distancia_en_km = Marte - Tierra\n",
    "\n",
    "# Convertir de KM a Millas\n",
    "\n",
    "Distancia_millas = Distancia_en_km * 0.621\n",
    "\n",
    "print(Distancia_en_km)\n",
    "print(abs(Distancia_millas))\n"
   ]
  }
 ],
 "metadata": {
  "interpreter": {
   "hash": "7537fe986df8cdb5a0245ac117ced56be570be83a7377717d89cf967a353e620"
  },
  "kernelspec": {
   "display_name": "Python 3.10.2 64-bit (windows store)",
   "language": "python",
   "name": "python3"
  },
  "language_info": {
   "codemirror_mode": {
    "name": "ipython",
    "version": 3
   },
   "file_extension": ".py",
   "mimetype": "text/x-python",
   "name": "python",
   "nbconvert_exporter": "python",
   "pygments_lexer": "ipython3",
   "version": "3.10.2"
  },
  "orig_nbformat": 4
 },
 "nbformat": 4,
 "nbformat_minor": 2
}
